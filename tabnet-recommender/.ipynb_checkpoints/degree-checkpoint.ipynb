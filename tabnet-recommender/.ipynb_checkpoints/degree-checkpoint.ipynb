{
 "cells": [
  {
   "cell_type": "code",
   "execution_count": 4,
   "id": "68e4ca91-e529-4fc4-b1e9-6583c00c010b",
   "metadata": {},
   "outputs": [
    {
     "name": "stdout",
     "output_type": "stream",
     "text": [
      "Using device: cpu\n"
     ]
    }
   ],
   "source": [
    "# Cell 1: Imports & device setup\n",
    "import pandas as pd\n",
    "import numpy as np\n",
    "from sklearn.preprocessing import LabelEncoder, StandardScaler\n",
    "from sklearn.model_selection import train_test_split\n",
    "from sklearn.metrics import accuracy_score, classification_report\n",
    "from pytorch_tabnet.tab_model import TabNetClassifier\n",
    "import torch\n",
    "\n",
    "# Choose device\n",
    "device = 'cuda' if torch.cuda.is_available() else 'cpu'\n",
    "print(f\"Using device: {device}\")\n"
   ]
  },
  {
   "cell_type": "code",
   "execution_count": 13,
   "id": "3b70a9d3-58f8-416e-bf17-29111ec631ef",
   "metadata": {},
   "outputs": [
    {
     "name": "stdout",
     "output_type": "stream",
     "text": [
      "Data shape after dropna: (1536, 13)\n"
     ]
    }
   ],
   "source": [
    "# Cell 2: Load dataset & validate columns\n",
    "DATA_PATH = \"student_data.xlsx\"   # your Excel file\n",
    "df = pd.read_excel(DATA_PATH)\n",
    "\n",
    "expected_columns = [\n",
    "    \"Gender\", \"Academic Percentage\", \"Study Stream\",\n",
    "    \"Analytical\", \"Logical\", \"Explaining\", \"Creative\",\n",
    "    \"Detail-Oriented\", \"Helping\", \"Activity Preference\",\n",
    "    \"Project Preference\", \"Degree Program\"\n",
    "]\n",
    "missing = set(expected_columns) - set(df.columns)\n",
    "assert not missing, f\"Missing columns: {missing}\"\n",
    "\n",
    "df.dropna(subset=expected_columns, inplace=True)\n",
    "print(f\"Data shape after dropna: {df.shape}\")\n"
   ]
  },
  {
   "cell_type": "code",
   "execution_count": 14,
   "id": "04e5f85a-8fc3-42a0-8435-91693e1089b8",
   "metadata": {},
   "outputs": [
    {
     "name": "stdout",
     "output_type": "stream",
     "text": [
      "Feature matrix X shape: (1536, 13)\n"
     ]
    }
   ],
   "source": [
    "# Cell 3: Preprocess features\n",
    "# 1) Ensure Gender is int\n",
    "df[\"Gender\"] = df[\"Gender\"].astype(int)\n",
    "\n",
    "# 2) One-hot encode Study Stream\n",
    "stream_ohe = pd.get_dummies(df[\"Study Stream\"], prefix=\"Stream\")\n",
    "df = pd.concat([df.drop(\"Study Stream\", axis=1), stream_ohe], axis=1)\n",
    "\n",
    "# 3) Assemble feature matrix X and target y\n",
    "feature_cols = [\n",
    "    \"Gender\", \"Academic Percentage\",\n",
    "    \"Analytical\", \"Logical\", \"Explaining\", \"Creative\",\n",
    "    \"Detail-Oriented\", \"Helping\",\n",
    "    \"Activity Preference\", \"Project Preference\"\n",
    "] + list(stream_ohe.columns)\n",
    "\n",
    "X = df[feature_cols].astype(np.float32)\n",
    "y = df[\"Degree Program\"]\n",
    "print(f\"Feature matrix X shape: {X.shape}\")\n"
   ]
  },
  {
   "cell_type": "code",
   "execution_count": 15,
   "id": "80194a2f-639b-4fca-b02f-92c07850ba42",
   "metadata": {},
   "outputs": [
    {
     "name": "stdout",
     "output_type": "stream",
     "text": [
      "Encoded 16 classes: ['BDS' 'BS Aerospace Engineering' 'BS Artificial Intelligence'\n",
      " 'BS Biomedical Engineering' 'BS Chemical Engineering'\n",
      " 'BS Civil Engineering' 'BS Computer Science' 'BS Cyber Security'\n",
      " 'BS Data Science' 'BS Electrical Engineering' 'BS Mechanical Engineering'\n",
      " 'BS Nursing' 'BS Software Engineering' 'DPT' 'MBBS' 'Pharm-D']\n"
     ]
    }
   ],
   "source": [
    "# Cell 4: Encode the target\n",
    "label_encoder = LabelEncoder().fit(y)\n",
    "y_enc = label_encoder.transform(y)\n",
    "print(f\"Encoded {len(label_encoder.classes_)} classes: {label_encoder.classes_}\")\n"
   ]
  },
  {
   "cell_type": "code",
   "execution_count": 16,
   "id": "43cc3c29-9ee0-4dfd-b107-1c179870ed84",
   "metadata": {},
   "outputs": [
    {
     "name": "stdout",
     "output_type": "stream",
     "text": [
      "Train shape: (1228, 13), Test shape: (308, 13)\n"
     ]
    }
   ],
   "source": [
    "# Cell 5: Train-test split\n",
    "X_train, X_test, y_train, y_test = train_test_split(\n",
    "    X.values, y_enc,\n",
    "    test_size=0.20,\n",
    "    random_state=42,\n",
    "    stratify=y_enc\n",
    ")\n",
    "print(f\"Train shape: {X_train.shape}, Test shape: {X_test.shape}\")\n"
   ]
  },
  {
   "cell_type": "code",
   "execution_count": 17,
   "id": "46e330d9-ebb6-41e4-b8f6-7fef619beda3",
   "metadata": {},
   "outputs": [],
   "source": [
    "# Cell 6: Scale features\n",
    "scaler = StandardScaler()\n",
    "X_train = scaler.fit_transform(X_train)\n",
    "X_test = scaler.transform(X_test)\n"
   ]
  },
  {
   "cell_type": "code",
   "execution_count": 18,
   "id": "c2cf664f-56af-4e30-a508-320bf778791a",
   "metadata": {},
   "outputs": [
    {
     "name": "stderr",
     "output_type": "stream",
     "text": [
      "C:\\Users\\Saad Mahmood\\AppData\\Local\\Programs\\Python\\Python313\\Lib\\site-packages\\pytorch_tabnet\\abstract_model.py:82: UserWarning: Device used : cpu\n",
      "  warnings.warn(f\"Device used : {self.device}\")\n"
     ]
    }
   ],
   "source": [
    "# Cell 7: Initialize TabNetClassifier\n",
    "clf = TabNetClassifier(\n",
    "    n_d=16,\n",
    "    n_a=16,\n",
    "    n_steps=5,\n",
    "    gamma=1.5,\n",
    "    lambda_sparse=1e-4,\n",
    "    optimizer_fn=torch.optim.Adam,\n",
    "    optimizer_params=dict(lr=2e-2),\n",
    "    mask_type=\"sparsemax\",\n",
    "    scheduler_params={\"step_size\":50, \"gamma\":0.9},\n",
    "    scheduler_fn=torch.optim.lr_scheduler.StepLR,\n",
    "    device_name=device\n",
    ")\n"
   ]
  },
  {
   "cell_type": "code",
   "execution_count": 19,
   "id": "03692362-6d91-45b9-9fe5-a80a23a3c5ee",
   "metadata": {},
   "outputs": [
    {
     "name": "stdout",
     "output_type": "stream",
     "text": [
      "epoch 0  | loss: 3.51886 | train_accuracy: 0.23127 | test_accuracy: 0.25    |  0:00:00s\n",
      "epoch 1  | loss: 2.60515 | train_accuracy: 0.26873 | test_accuracy: 0.26948 |  0:00:01s\n",
      "epoch 2  | loss: 2.32717 | train_accuracy: 0.33225 | test_accuracy: 0.33766 |  0:00:02s\n",
      "epoch 3  | loss: 2.0892  | train_accuracy: 0.4943  | test_accuracy: 0.52273 |  0:00:02s\n",
      "epoch 4  | loss: 1.86926 | train_accuracy: 0.55293 | test_accuracy: 0.58117 |  0:00:03s\n",
      "epoch 5  | loss: 1.73289 | train_accuracy: 0.56515 | test_accuracy: 0.56494 |  0:00:04s\n",
      "epoch 6  | loss: 1.60998 | train_accuracy: 0.56759 | test_accuracy: 0.6039  |  0:00:04s\n",
      "epoch 7  | loss: 1.58207 | train_accuracy: 0.60342 | test_accuracy: 0.61039 |  0:00:05s\n",
      "epoch 8  | loss: 1.49347 | train_accuracy: 0.61075 | test_accuracy: 0.6461  |  0:00:06s\n",
      "epoch 9  | loss: 1.45866 | train_accuracy: 0.65309 | test_accuracy: 0.67532 |  0:00:07s\n",
      "epoch 10 | loss: 1.34589 | train_accuracy: 0.69463 | test_accuracy: 0.70455 |  0:00:08s\n",
      "epoch 11 | loss: 1.27838 | train_accuracy: 0.69381 | test_accuracy: 0.72727 |  0:00:09s\n",
      "epoch 12 | loss: 1.19465 | train_accuracy: 0.66287 | test_accuracy: 0.68182 |  0:00:09s\n",
      "epoch 13 | loss: 1.15359 | train_accuracy: 0.73941 | test_accuracy: 0.77273 |  0:00:10s\n",
      "epoch 14 | loss: 1.10419 | train_accuracy: 0.72883 | test_accuracy: 0.75974 |  0:00:11s\n",
      "epoch 15 | loss: 1.08523 | train_accuracy: 0.74104 | test_accuracy: 0.75649 |  0:00:12s\n",
      "epoch 16 | loss: 1.0646  | train_accuracy: 0.76221 | test_accuracy: 0.76948 |  0:00:13s\n",
      "epoch 17 | loss: 1.06151 | train_accuracy: 0.74919 | test_accuracy: 0.76948 |  0:00:14s\n",
      "epoch 18 | loss: 1.03243 | train_accuracy: 0.76303 | test_accuracy: 0.78247 |  0:00:15s\n",
      "epoch 19 | loss: 0.98941 | train_accuracy: 0.77769 | test_accuracy: 0.7987  |  0:00:16s\n",
      "epoch 20 | loss: 0.97925 | train_accuracy: 0.79642 | test_accuracy: 0.82468 |  0:00:17s\n",
      "epoch 21 | loss: 0.91451 | train_accuracy: 0.78746 | test_accuracy: 0.81169 |  0:00:18s\n",
      "epoch 22 | loss: 0.90519 | train_accuracy: 0.80537 | test_accuracy: 0.82468 |  0:00:19s\n",
      "epoch 23 | loss: 0.81831 | train_accuracy: 0.80456 | test_accuracy: 0.81818 |  0:00:20s\n",
      "epoch 24 | loss: 0.79031 | train_accuracy: 0.80375 | test_accuracy: 0.82468 |  0:00:21s\n",
      "epoch 25 | loss: 0.80639 | train_accuracy: 0.80863 | test_accuracy: 0.82468 |  0:00:21s\n",
      "epoch 26 | loss: 0.76198 | train_accuracy: 0.80782 | test_accuracy: 0.82143 |  0:00:23s\n",
      "epoch 27 | loss: 0.76051 | train_accuracy: 0.80619 | test_accuracy: 0.82143 |  0:00:24s\n",
      "epoch 28 | loss: 0.73022 | train_accuracy: 0.8127  | test_accuracy: 0.81818 |  0:00:26s\n",
      "epoch 29 | loss: 0.72649 | train_accuracy: 0.81433 | test_accuracy: 0.82468 |  0:00:28s\n",
      "epoch 30 | loss: 0.73373 | train_accuracy: 0.80945 | test_accuracy: 0.82468 |  0:00:28s\n",
      "epoch 31 | loss: 0.73234 | train_accuracy: 0.75    | test_accuracy: 0.75325 |  0:00:29s\n",
      "epoch 32 | loss: 0.70924 | train_accuracy: 0.82248 | test_accuracy: 0.81494 |  0:00:30s\n",
      "epoch 33 | loss: 0.68872 | train_accuracy: 0.81433 | test_accuracy: 0.81494 |  0:00:31s\n",
      "epoch 34 | loss: 0.68195 | train_accuracy: 0.81352 | test_accuracy: 0.81494 |  0:00:32s\n",
      "epoch 35 | loss: 0.6741  | train_accuracy: 0.81189 | test_accuracy: 0.80519 |  0:00:32s\n",
      "epoch 36 | loss: 0.68532 | train_accuracy: 0.81433 | test_accuracy: 0.81494 |  0:00:34s\n",
      "epoch 37 | loss: 0.68226 | train_accuracy: 0.82492 | test_accuracy: 0.82143 |  0:00:35s\n",
      "epoch 38 | loss: 0.6728  | train_accuracy: 0.82329 | test_accuracy: 0.81169 |  0:00:36s\n",
      "epoch 39 | loss: 0.68779 | train_accuracy: 0.8241  | test_accuracy: 0.81169 |  0:00:37s\n",
      "epoch 40 | loss: 0.68526 | train_accuracy: 0.81922 | test_accuracy: 0.80195 |  0:00:38s\n",
      "\n",
      "Early stopping occurred at epoch 40 with best_epoch = 20 and best_test_accuracy = 0.82468\n"
     ]
    },
    {
     "name": "stderr",
     "output_type": "stream",
     "text": [
      "C:\\Users\\Saad Mahmood\\AppData\\Local\\Programs\\Python\\Python313\\Lib\\site-packages\\pytorch_tabnet\\callbacks.py:172: UserWarning: Best weights from best epoch are automatically used!\n",
      "  warnings.warn(wrn_msg)\n"
     ]
    }
   ],
   "source": [
    "# Cell 8: Train the model\n",
    "clf.fit(\n",
    "    X_train, y_train,\n",
    "    eval_set=[(X_train, y_train), (X_test, y_test)],\n",
    "    eval_name=[\"train\", \"test\"],\n",
    "    eval_metric=[\"accuracy\"],\n",
    "    max_epochs=200,\n",
    "    patience=20,\n",
    "    batch_size=128,\n",
    "    virtual_batch_size=32,\n",
    "    num_workers=0,\n",
    "    drop_last=False\n",
    ")\n"
   ]
  },
  {
   "cell_type": "code",
   "execution_count": 23,
   "id": "ae7f58c2-d86b-4430-a99d-f557da691385",
   "metadata": {},
   "outputs": [
    {
     "name": "stdout",
     "output_type": "stream",
     "text": [
      "Test Accuracy: 0.8247\n",
      "\n",
      "                            precision    recall  f1-score   support\n",
      "\n",
      "                       BDS       0.67      0.50      0.57         8\n",
      "  BS Aerospace Engineering       0.92      0.85      0.88        26\n",
      "BS Artificial Intelligence       1.00      0.87      0.93        30\n",
      " BS Biomedical Engineering       0.83      0.80      0.82        25\n",
      "   BS Chemical Engineering       0.85      0.74      0.79        23\n",
      "      BS Civil Engineering       0.64      0.82      0.72        22\n",
      "       BS Computer Science       1.00      0.92      0.96        24\n",
      "         BS Cyber Security       0.74      0.83      0.78        24\n",
      "           BS Data Science       0.86      0.93      0.89        27\n",
      " BS Electrical Engineering       0.88      0.81      0.84        26\n",
      " BS Mechanical Engineering       0.77      0.85      0.81        27\n",
      "                BS Nursing       0.00      0.00      0.00         3\n",
      "   BS Software Engineering       0.87      0.96      0.91        27\n",
      "                       DPT       0.00      0.00      0.00         4\n",
      "                      MBBS       0.42      0.83      0.56         6\n",
      "                   Pharm-D       1.00      0.83      0.91         6\n",
      "\n",
      "                  accuracy                           0.82       308\n",
      "                 macro avg       0.71      0.72      0.71       308\n",
      "              weighted avg       0.82      0.82      0.82       308\n",
      "\n"
     ]
    },
    {
     "name": "stderr",
     "output_type": "stream",
     "text": [
      "C:\\Users\\Saad Mahmood\\AppData\\Local\\Programs\\Python\\Python313\\Lib\\site-packages\\sklearn\\metrics\\_classification.py:1565: UndefinedMetricWarning: Precision is ill-defined and being set to 0.0 in labels with no predicted samples. Use `zero_division` parameter to control this behavior.\n",
      "  _warn_prf(average, modifier, f\"{metric.capitalize()} is\", len(result))\n",
      "C:\\Users\\Saad Mahmood\\AppData\\Local\\Programs\\Python\\Python313\\Lib\\site-packages\\sklearn\\metrics\\_classification.py:1565: UndefinedMetricWarning: Precision is ill-defined and being set to 0.0 in labels with no predicted samples. Use `zero_division` parameter to control this behavior.\n",
      "  _warn_prf(average, modifier, f\"{metric.capitalize()} is\", len(result))\n",
      "C:\\Users\\Saad Mahmood\\AppData\\Local\\Programs\\Python\\Python313\\Lib\\site-packages\\sklearn\\metrics\\_classification.py:1565: UndefinedMetricWarning: Precision is ill-defined and being set to 0.0 in labels with no predicted samples. Use `zero_division` parameter to control this behavior.\n",
      "  _warn_prf(average, modifier, f\"{metric.capitalize()} is\", len(result))\n"
     ]
    }
   ],
   "source": [
    "# Cell 9: Evaluate on test set\n",
    "y_pred = clf.predict(X_test)\n",
    "acc = accuracy_score(y_test, y_pred)\n",
    "print(f\"Test Accuracy: {acc:.4f}\\n\")\n",
    "print(classification_report(y_test, y_pred, target_names=label_encoder.classes_))\n"
   ]
  },
  {
   "cell_type": "code",
   "execution_count": 24,
   "id": "66e7287d-a6a7-46e3-9717-4636525918cf",
   "metadata": {},
   "outputs": [
    {
     "name": "stdout",
     "output_type": "stream",
     "text": [
      "Sample 1 recommendations:\n",
      "  • BS Mechanical Engineering: 0.2270\n",
      "  • BS Civil Engineering: 0.2199\n",
      "  • BS Biomedical Engineering: 0.1386\n",
      "\n",
      "Sample 2 recommendations:\n",
      "  • BS Computer Science: 0.9752\n",
      "  • BS Aerospace Engineering: 0.0135\n",
      "  • BS Cyber Security: 0.0043\n",
      "\n",
      "Sample 3 recommendations:\n",
      "  • BS Artificial Intelligence: 0.9610\n",
      "  • BS Aerospace Engineering: 0.0347\n",
      "  • BS Civil Engineering: 0.0021\n",
      "\n",
      "Sample 4 recommendations:\n",
      "  • BS Artificial Intelligence: 0.9772\n",
      "  • BS Aerospace Engineering: 0.0129\n",
      "  • BS Data Science: 0.0070\n",
      "\n",
      "Sample 5 recommendations:\n",
      "  • BS Civil Engineering: 0.3667\n",
      "  • BS Chemical Engineering: 0.3279\n",
      "  • Pharm-D: 0.0538\n",
      "\n"
     ]
    }
   ],
   "source": [
    "# Cell 10: Top-3 recommendations for first 5 test samples\n",
    "proba = clf.predict_proba(X_test[:5])\n",
    "top_k = 3\n",
    "for i, probs in enumerate(proba, start=1):\n",
    "    idxs = np.argsort(probs)[-top_k:][::-1]\n",
    "    labels = label_encoder.inverse_transform(idxs)\n",
    "    print(f\"Sample {i} recommendations:\")\n",
    "    for lbl, p in zip(labels, probs[idxs]):\n",
    "        print(f\"  • {lbl}: {p:.4f}\")\n",
    "    print()\n"
   ]
  },
  {
   "cell_type": "code",
   "execution_count": 26,
   "id": "ae121eb1-5878-4946-b0d2-6f1298b728b9",
   "metadata": {},
   "outputs": [],
   "source": [
    "# Cell 11: Inline real-time recommendation function\n",
    "def recommend_degree_inline(input_data, top_k=3):\n",
    "    \"\"\"\n",
    "    input_data keys:\n",
    "      Gender (0/1), Academic Percentage (float),\n",
    "      Study Stream (str), Analytical, Logical, Explaining,\n",
    "      Creative, Detail-Oriented, Helping (ints 1-5),\n",
    "      Activity Preference, Project Preference (ints 1-3).\n",
    "    \"\"\"\n",
    "    # Build DataFrame\n",
    "    df_in = pd.DataFrame([input_data])\n",
    "\n",
    "    # One-hot encode Study Stream\n",
    "    so = pd.get_dummies(df_in[\"Study Stream\"], prefix=\"Stream\")\n",
    "    for col in [\"Stream_Computer Science\",\"Stream_Pre-Engineering\",\"Stream_Pre-Medical\"]:\n",
    "        if col not in so:\n",
    "            so[col] = 0\n",
    "    df_in = pd.concat([df_in.drop(\"Study Stream\", axis=1), so], axis=1)\n",
    "\n",
    "    # Align & cast\n",
    "    df_in = df_in[X.columns].astype(np.float32)\n",
    "\n",
    "    # Scale (use .values to suppress warnings)\n",
    "    X_new = scaler.transform(df_in.values)\n",
    "\n",
    "    # Predict\n",
    "    probs = clf.predict_proba(X_new)[0]\n",
    "    top_idxs = np.argsort(probs)[-top_k:][::-1]\n",
    "    recs = label_encoder.inverse_transform(top_idxs)\n",
    "\n",
    "    # Print\n",
    "    print(f\"Top-{top_k} degree recommendations:\")\n",
    "    for rank, idx in enumerate(top_idxs, start=1):\n",
    "        print(f\"{rank}. {recs[rank-1]} ({probs[idx]:.4f})\")\n"
   ]
  },
  {
   "cell_type": "code",
   "execution_count": 31,
   "id": "dd19bec8-8acb-47cf-b3c3-407d4e6cd84e",
   "metadata": {},
   "outputs": [
    {
     "name": "stdout",
     "output_type": "stream",
     "text": [
      "Top-3 degree recommendations:\n",
      "1. MBBS (0.3429)\n",
      "2. BS Cyber Security (0.1317)\n",
      "3. BS Electrical Engineering (0.0840)\n"
     ]
    }
   ],
   "source": [
    "# Cell 12: Example real-time test\n",
    "test_input = {\n",
    "    \"Gender\": 0,\n",
    "    \"Academic Percentage\": 55.0,\n",
    "    \"Study Stream\": \"Computer Science\",\n",
    "    \"Analytical\": 5,\n",
    "    \"Logical\": 5,\n",
    "    \"Explaining\": 5,\n",
    "    \"Creative\": 1,\n",
    "    \"Detail-Oriented\": 5,\n",
    "    \"Helping\": 5,\n",
    "    \"Activity Preference\": 2,\n",
    "    \"Project Preference\": 1\n",
    "}\n",
    "\n",
    "recommend_degree_inline(test_input, top_k=3)\n"
   ]
  },
  {
   "cell_type": "code",
   "execution_count": null,
   "id": "cc2b5000-b1f7-4b81-b495-9963a79a2dee",
   "metadata": {},
   "outputs": [],
   "source": []
  }
 ],
 "metadata": {
  "kernelspec": {
   "display_name": "Python 3 (ipykernel)",
   "language": "python",
   "name": "python3"
  },
  "language_info": {
   "codemirror_mode": {
    "name": "ipython",
    "version": 3
   },
   "file_extension": ".py",
   "mimetype": "text/x-python",
   "name": "python",
   "nbconvert_exporter": "python",
   "pygments_lexer": "ipython3",
   "version": "3.13.1"
  }
 },
 "nbformat": 4,
 "nbformat_minor": 5
}
