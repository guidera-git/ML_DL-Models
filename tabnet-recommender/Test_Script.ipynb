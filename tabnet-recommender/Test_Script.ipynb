{
 "cells": [
  {
   "cell_type": "code",
   "execution_count": 3,
   "id": "21aa8876-7bc9-4be4-b7ef-63a3aef5af8b",
   "metadata": {},
   "outputs": [
    {
     "name": "stdout",
     "output_type": "stream",
     "text": [
      "\n",
      "Early stopping occurred at epoch 30 with best_epoch = 20 and best_train_accuracy = 0.81052\n"
     ]
    },
    {
     "name": "stderr",
     "output_type": "stream",
     "text": [
      "C:\\Users\\Saad Mahmood\\AppData\\Local\\Programs\\Python\\Python313\\Lib\\site-packages\\pytorch_tabnet\\callbacks.py:172: UserWarning: Best weights from best epoch are automatically used!\n",
      "  warnings.warn(wrn_msg)\n"
     ]
    },
    {
     "name": "stdout",
     "output_type": "stream",
     "text": [
      "Successfully saved model at tabnet_degree_model.zip\n",
      "✅ TabNet trained and saved.\n"
     ]
    }
   ],
   "source": [
    "# ┌─────────────────────────────────────────────────────────┐\n",
    "# │ Cell 1: TRAIN TabNet on DataTraining.xlsx and SAVE IT │\n",
    "# └─────────────────────────────────────────────────────────┘\n",
    "\n",
    "# (Run once)\n",
    "# !pip install pytorch-tabnet pandas scikit-learn openpyxl joblib\n",
    "\n",
    "import pandas as pd\n",
    "import numpy as np\n",
    "from sklearn.preprocessing import LabelEncoder\n",
    "from pytorch_tabnet.tab_model import TabNetClassifier\n",
    "import joblib\n",
    "\n",
    "# 1) Load and clean training data\n",
    "df = pd.read_excel(\"DataTraining.xlsx\")\n",
    "\n",
    "# 2) Ensure numeric columns are numeric & fill missing with zero\n",
    "num_cols = [\n",
    "    \"Gender\", \"Academic Percentage\",\n",
    "    \"Analytical\", \"Logical\", \"Explaining\",\n",
    "    \"Creative\", \"Detail-Oriented\", \"Helping\",\n",
    "    \"Activity Preference\", \"Project Preference\"\n",
    "]\n",
    "df[num_cols] = df[num_cols].apply(pd.to_numeric, errors=\"coerce\").fillna(0)\n",
    "\n",
    "# 3) Label-encode \"Study Stream\" and target \"Degree Program\"\n",
    "encoders = {}\n",
    "for col in [\"Study Stream\", \"Degree Program\"]:\n",
    "    le = LabelEncoder()\n",
    "    df[col] = le.fit_transform(df[col])\n",
    "    encoders[col] = le\n",
    "\n",
    "# 4) Split into features / target, dropping both University & Degree Program\n",
    "X = df.drop(columns=[\"Degree Program\", \"University\"]).values\n",
    "y = df[\"Degree Program\"].values\n",
    "\n",
    "# 5) Train TabNetClassifier\n",
    "clf = TabNetClassifier(seed=42, verbose=0)\n",
    "clf.fit(\n",
    "    X_train=X, y_train=y,\n",
    "    eval_set=[(X, y)],\n",
    "    eval_name=[\"train\"],\n",
    "    eval_metric=[\"accuracy\"],\n",
    "    max_epochs=100,\n",
    "    patience=10,\n",
    "    batch_size=64,\n",
    "    virtual_batch_size=32\n",
    ")\n",
    "\n",
    "# 6) Save model + encoders\n",
    "clf.save_model(\"tabnet_degree_model\")\n",
    "joblib.dump(encoders, \"label_encoders.pkl\")\n",
    "\n",
    "print(\"✅ TabNet trained and saved.\")\n"
   ]
  },
  {
   "cell_type": "code",
   "execution_count": 6,
   "id": "d453eadf-f9a1-45fd-917d-45bc2fafaa3e",
   "metadata": {},
   "outputs": [
    {
     "name": "stderr",
     "output_type": "stream",
     "text": [
      "C:\\Users\\Saad Mahmood\\AppData\\Local\\Programs\\Python\\Python313\\Lib\\site-packages\\pytorch_tabnet\\abstract_model.py:82: UserWarning: Device used : cpu\n",
      "  warnings.warn(f\"Device used : {self.device}\")\n"
     ]
    },
    {
     "name": "stdout",
     "output_type": "stream",
     "text": [
      "✅ TabNet predictions saved to 'Result.xlsx'\n"
     ]
    }
   ],
   "source": [
    "import pandas as pd\n",
    "import numpy as np\n",
    "import joblib\n",
    "from pytorch_tabnet.tab_model import TabNetClassifier\n",
    "\n",
    "# 1) Load TabNet model + encoders\n",
    "clf = TabNetClassifier()\n",
    "clf.load_model(\"tabnet_degree_model.zip\")\n",
    "\n",
    "encoders = joblib.load(\"label_encoders.pkl\")\n",
    "# encoders == {\"Study Stream\": LabelEncoder(), \"Degree Program\": LabelEncoder()}\n",
    "\n",
    "# 2) Read and clean TestData.xlsx\n",
    "test_df = pd.read_excel(\"TestData.xlsx\")\n",
    "numeric_fields = [\n",
    "    \"Gender\", \"Academic Percentage\", \"Analytical\", \"Logical\", \"Explaining\",\n",
    "    \"Creative\", \"Detail-Oriented\", \"Helping\", \"Activity Preference\", \"Project Preference\"\n",
    "]\n",
    "test_df[numeric_fields] = test_df[numeric_fields] \\\n",
    "    .apply(pd.to_numeric, errors=\"coerce\") \\\n",
    "    .fillna(0)\n",
    "\n",
    "# 3) Encode categorical input\n",
    "test_df[\"Study Stream\"] = encoders[\"Study Stream\"].transform(test_df[\"Study Stream\"])\n",
    "\n",
    "# 4) Prepare features for prediction\n",
    "X_test = test_df.drop(columns=[\"University\", \"Degree Program\"], errors=\"ignore\").values\n",
    "\n",
    "# 5) Predict & decode\n",
    "pred_idxs = clf.predict(X_test)\n",
    "pred_labels = encoders[\"Degree Program\"].inverse_transform(pred_idxs)\n",
    "\n",
    "# 6) Build output df\n",
    "output = test_df.copy()\n",
    "output[\"Predicted Degree Program\"] = pred_labels\n",
    "\n",
    "# 7) If true labels exist, compute correctness + totals\n",
    "has_truth = \"Degree Program\" in output.columns\n",
    "if has_truth:\n",
    "    # Decode true labels for display\n",
    "    true_idxs = encoders[\"Degree Program\"].transform(output[\"Degree Program\"])\n",
    "    true_labels = encoders[\"Degree Program\"].inverse_transform(true_idxs)\n",
    "    output[\"Degree Program\"] = true_labels\n",
    "    \n",
    "    output[\"Result\"] = np.where(\n",
    "        output[\"Predicted Degree Program\"] == output[\"Degree Program\"],\n",
    "        \"Correct\", \"Incorrect\"\n",
    "    )\n",
    "    total = len(output)\n",
    "    correct = (output[\"Result\"] == \"Correct\").sum()\n",
    "    output[\"Total\"] = total\n",
    "    output[\"Percentage\"] = (correct / total) * 100\n",
    "else:\n",
    "    output[\"Result\"] = \"N/A\"\n",
    "    output[\"Total\"] = \"N/A\"\n",
    "    output[\"Percentage\"] = \"N/A\"\n",
    "\n",
    "# 8) Dynamically assemble cols list in your desired order\n",
    "base_cols = [\n",
    "    \"Gender\", \"Academic Percentage\", \"Study Stream\",\n",
    "    \"Analytical\", \"Logical\", \"Explaining\", \"Creative\",\n",
    "    \"Detail-Oriented\", \"Helping\", \"Activity Preference\",\n",
    "    \"Project Preference\", \"Predicted Degree Program\"\n",
    "]\n",
    "if has_truth:\n",
    "    final_cols = base_cols + [\"Degree Program\", \"Result\", \"Total\", \"Percentage\"]\n",
    "else:\n",
    "    final_cols = base_cols + [\"Result\", \"Total\", \"Percentage\"]\n",
    "\n",
    "# 9) Save\n",
    "output[final_cols].to_excel(\"Result.xlsx\", index=False)\n",
    "print(\"✅ TabNet predictions saved to 'Result.xlsx'\")\n"
   ]
  },
  {
   "cell_type": "code",
   "execution_count": null,
   "id": "e77ca2c5-57ce-430f-8cd1-39a396c0bdb5",
   "metadata": {},
   "outputs": [],
   "source": []
  }
 ],
 "metadata": {
  "kernelspec": {
   "display_name": "Python 3 (ipykernel)",
   "language": "python",
   "name": "python3"
  },
  "language_info": {
   "codemirror_mode": {
    "name": "ipython",
    "version": 3
   },
   "file_extension": ".py",
   "mimetype": "text/x-python",
   "name": "python",
   "nbconvert_exporter": "python",
   "pygments_lexer": "ipython3",
   "version": "3.13.1"
  }
 },
 "nbformat": 4,
 "nbformat_minor": 5
}
